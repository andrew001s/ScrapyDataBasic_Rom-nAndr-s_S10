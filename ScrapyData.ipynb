{
 "cells": [
  {
   "cell_type": "markdown",
   "metadata": {},
   "source": [
    "Instalación"
   ]
  },
  {
   "cell_type": "code",
   "execution_count": 9,
   "metadata": {},
   "outputs": [],
   "source": [
    "#!pip install beautifulsoup4 requests pandas"
   ]
  },
  {
   "cell_type": "markdown",
   "metadata": {},
   "source": [
    "Load dependencies"
   ]
  },
  {
   "cell_type": "code",
   "execution_count": 10,
   "metadata": {},
   "outputs": [],
   "source": [
    "import json\n",
    "import requests\n",
    "from bs4 import BeautifulSoup as bs\n",
    "import pandas as pd"
   ]
  },
  {
   "cell_type": "markdown",
   "metadata": {},
   "source": [
    " Función que convierte una lista de elementos en un dataframe de pandas"
   ]
  },
  {
   "cell_type": "code",
   "execution_count": 11,
   "metadata": {},
   "outputs": [],
   "source": [
    "def rowsToDataFrame(rows):\n",
    "    df = pd.DataFrame(rows[1:], columns=rows[0])\n",
    "    return df\n",
    "    # Función para extraer los datos de una tabla HTML\n",
    "def processTableData(tbl):\n",
    "    rows = []\n",
    "    for child in tbl.find('tbody').children: # itera los items internos de la tabla [<tr>]\n",
    "        row = []\n",
    "    for td in child: # itera los ítems internos de la tabla [<td>]\n",
    "        try:\n",
    "            item = td.text.replace('\\n', '') # recupera el texto del elemento [<td>]\n",
    "            if item:\n",
    "                row.append(item) # Agrega cada elemento de la fila\n",
    "        except:\n",
    "            continue\n",
    "    if len(row) > 0:\n",
    "            rows.append(row) # agrega todos los campos de una fila de la tabla\n",
    "    # print(rows)\n",
    "    return rows"
   ]
  },
  {
   "cell_type": "markdown",
   "metadata": {},
   "source": [
    "Función para extraer la data de la URL y procesar el contenido HTML"
   ]
  },
  {
   "cell_type": "code",
   "execution_count": 12,
   "metadata": {},
   "outputs": [],
   "source": [
    "def processDataHTML(data):\n",
    "    soup = bs(data['sections'][1]['text'], 'html.parser') # Recupera el ítem del JSON y lo convierte en contenido HTML\n",
    "    tbl = soup.find_all('table')[0] # Recupera la tabla del contenido HTML\n",
    "    # print(tbl.prettify())\n",
    "    tblRows = processTableData(tbl) # Ejecuta la función para procesar el contenido de la Tabla\n",
    "    return tblRows"
   ]
  },
  {
   "cell_type": "markdown",
   "metadata": {},
   "source": [
    "Read website"
   ]
  },
  {
   "cell_type": "code",
   "execution_count": null,
   "metadata": {},
   "outputs": [
    {
     "name": "stdout",
     "output_type": "stream",
     "text": [
      "<Response [200]>\n"
     ]
    }
   ],
   "source": [
    "r = requests.get('https://es.wikipedia.org/api/rest_v1/page/html/Anexo%3ATabla_estad%C3%ADstica_de_la_Copa_Mundial_de_F%C3%BAtbol')\n",
    "#Corrección de error en la URL de la API - (Actualmente API caida)\n",
    "#r = requests.get('https://es.wikipedia.org/api/rest_v1/page/mobile-sections-remaining/Anexo%3ATabla_estadística_de_la_Copa_Mundial_de_Fútbol')  \n",
    "# Recuperamos el contenido de la web\n",
    "print(r)\n",
    "#table = processDataHTML(json.loads(r.content)) # Formate el contenido en formato JSON\n",
    "table_temp=pd.read_html(r.content)\n",
    "df=table_temp[0]\n",
    "#df = rowsToDataFrame(table) # ejecuta la funcion para recupera los datos de la tabla como dataframe de Pandas df"
   ]
  },
  {
   "cell_type": "markdown",
   "metadata": {},
   "source": [
    "Inspeccionamos el tipo de dato de cada variable"
   ]
  },
  {
   "cell_type": "code",
   "execution_count": 14,
   "metadata": {},
   "outputs": [
    {
     "name": "stdout",
     "output_type": "stream",
     "text": [
      "<class 'pandas.core.frame.DataFrame'>\n",
      "RangeIndex: 81 entries, 0 to 80\n",
      "Data columns (total 13 columns):\n",
      " #   Column     Non-Null Count  Dtype  \n",
      "---  ------     --------------  -----  \n",
      " 0   Pos.       80 non-null     float64\n",
      " 1   Selección  80 non-null     object \n",
      " 2   TJ         80 non-null     float64\n",
      " 3   Pts.       80 non-null     float64\n",
      " 4   PJ         80 non-null     float64\n",
      " 5   PG         80 non-null     float64\n",
      " 6   PE         80 non-null     float64\n",
      " 7   PP         80 non-null     float64\n",
      " 8   GF         80 non-null     float64\n",
      " 9   GC         80 non-null     float64\n",
      " 10  Dif.       80 non-null     float64\n",
      " 11  Títulos    80 non-null     object \n",
      " 12  Rend.      80 non-null     object \n",
      "dtypes: float64(10), object(3)\n",
      "memory usage: 8.4+ KB\n"
     ]
    }
   ],
   "source": [
    "df.info() # Muestra la información del DataFrame"
   ]
  },
  {
   "cell_type": "markdown",
   "metadata": {},
   "source": [
    "Guardamos las datos extraídos como archivo CSV\n",
    "se puede aplicar otras opciones para guardar (Base de datos"
   ]
  },
  {
   "cell_type": "code",
   "execution_count": 15,
   "metadata": {},
   "outputs": [],
   "source": [
    "df.to_csv('CopaMundialFutbol.csv', index=False) # Guarda el contenido del DataFrame en un archivo CSV"
   ]
  }
 ],
 "metadata": {
  "kernelspec": {
   "display_name": "Python 3",
   "language": "python",
   "name": "python3"
  },
  "language_info": {
   "codemirror_mode": {
    "name": "ipython",
    "version": 3
   },
   "file_extension": ".py",
   "mimetype": "text/x-python",
   "name": "python",
   "nbconvert_exporter": "python",
   "pygments_lexer": "ipython3",
   "version": "3.11.9"
  }
 },
 "nbformat": 4,
 "nbformat_minor": 2
}
